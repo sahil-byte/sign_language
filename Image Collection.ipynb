{
 "cells": [
  {
   "cell_type": "code",
   "execution_count": 1,
   "metadata": {},
   "outputs": [
    {
     "name": "stdout",
     "output_type": "stream",
     "text": [
      "Requirement already satisfied: opencv-python in c:\\conda\\envs\\datasci\\lib\\site-packages (4.5.1.48)\n",
      "Requirement already satisfied: numpy>=1.17.3 in c:\\conda\\envs\\datasci\\lib\\site-packages (from opencv-python) (1.19.5)\n"
     ]
    },
    {
     "name": "stderr",
     "output_type": "stream",
     "text": [
      "WARNING: Value for scheme.headers does not match. Please report this to <https://github.com/pypa/pip/issues/9617>\n",
      "distutils: c:\\conda\\envs\\datasci\\Include\\UNKNOWN\n",
      "sysconfig: c:\\conda\\envs\\datasci\\Include\n",
      "WARNING: Additional context:\n",
      "user = False\n",
      "home = None\n",
      "root = None\n",
      "prefix = None\n",
      "WARNING: Value for scheme.headers does not match. Please report this to <https://github.com/pypa/pip/issues/9617>\n",
      "distutils: c:\\conda\\envs\\datasci\\Include\\UNKNOWN\n",
      "sysconfig: c:\\conda\\envs\\datasci\\Include\n",
      "WARNING: Additional context:\n",
      "user = False\n",
      "home = None\n",
      "root = None\n",
      "prefix = None\n",
      "WARNING: You are using pip version 21.1; however, version 21.1.1 is available.\n",
      "You should consider upgrading via the 'c:\\conda\\envs\\datasci\\python.exe -m pip install --upgrade pip' command.\n"
     ]
    }
   ],
   "source": [
    "!pip install opencv-python"
   ]
  },
  {
   "cell_type": "code",
   "execution_count": 2,
   "metadata": {},
   "outputs": [],
   "source": [
    "import cv2\n",
    "import uuid\n",
    "import time\n",
    "import os"
   ]
  },
  {
   "cell_type": "code",
   "execution_count": 3,
   "metadata": {},
   "outputs": [],
   "source": [
    "labels = [\"thumbsup\",\"thumbsdown\",\"livelong\",\"thankyou\"]\n",
    "number_imgs = 10"
   ]
  },
  {
   "cell_type": "code",
   "execution_count": 4,
   "metadata": {},
   "outputs": [],
   "source": [
    "IMAGES_PATH = os.path.join('Tensorflow','workspace','images','collectedimages')"
   ]
  },
  {
   "cell_type": "code",
   "execution_count": 5,
   "metadata": {},
   "outputs": [],
   "source": [
    "if not os.path.exists(IMAGES_PATH):\n",
    "    if os.name == 'posix': # for linux machine\n",
    "        !mkdir -p {IMAGES_PATH}\n",
    "    if os.name == 'nt': #for windows machine\n",
    "        !mkdir {IMAGES_PATH}\n",
    "for label in labels:\n",
    "    path = os.path.join(IMAGES_PATH, label)\n",
    "    if not os.path.exists(path):\n",
    "        !mkdir {path}"
   ]
  },
  {
   "cell_type": "markdown",
   "metadata": {},
   "source": [
    "# Capture Images"
   ]
  },
  {
   "cell_type": "code",
   "execution_count": 8,
   "metadata": {},
   "outputs": [
    {
     "name": "stdout",
     "output_type": "stream",
     "text": [
      "Collecting images for thumbsup\n",
      "Collecting image 0\n",
      "Collecting image 1\n",
      "Collecting image 2\n",
      "Collecting image 3\n",
      "Collecting image 4\n",
      "Collecting image 5\n",
      "Collecting image 6\n",
      "Collecting image 7\n",
      "Collecting image 8\n",
      "Collecting image 9\n",
      "Collecting images for thumbsdown\n",
      "Collecting image 0\n",
      "Collecting image 1\n",
      "Collecting image 2\n",
      "Collecting image 3\n",
      "Collecting image 4\n",
      "Collecting image 5\n",
      "Collecting image 6\n",
      "Collecting image 7\n",
      "Collecting image 8\n",
      "Collecting image 9\n",
      "Collecting images for livelong\n",
      "Collecting image 0\n",
      "Collecting image 1\n",
      "Collecting image 2\n",
      "Collecting image 3\n",
      "Collecting image 4\n",
      "Collecting image 5\n",
      "Collecting image 6\n",
      "Collecting image 7\n",
      "Collecting image 8\n",
      "Collecting image 9\n",
      "Collecting images for thankyou\n",
      "Collecting image 0\n",
      "Collecting image 1\n",
      "Collecting image 2\n",
      "Collecting image 3\n",
      "Collecting image 4\n",
      "Collecting image 5\n",
      "Collecting image 6\n",
      "Collecting image 7\n",
      "Collecting image 8\n",
      "Collecting image 9\n"
     ]
    }
   ],
   "source": [
    "for label in labels:\n",
    "    cap = cv2.VideoCapture(0)\n",
    "    print('Collecting images for {}'.format(label))\n",
    "    time.sleep(5)\n",
    "    for imgnum in range(number_imgs):\n",
    "        print('Collecting image {}'.format(imgnum))\n",
    "        _, frame = cap.read()\n",
    "        imgname = os.path.join(IMAGES_PATH,label,label+'.'+'{}.jpg'.format(str(uuid.uuid1())))\n",
    "        cv2.imwrite(imgname, frame)\n",
    "        cv2.imshow('frame',frame)\n",
    "        time.sleep(4)\n",
    "        \n",
    "        if cv2.waitKey(1) & 0xFF == ord('q'):\n",
    "            break\n",
    "cap.release()\n",
    "cv2.destroyAllWindows()\n"
   ]
  },
  {
   "cell_type": "markdown",
   "metadata": {},
   "source": [
    "# IMAGE LABELLING"
   ]
  },
  {
   "cell_type": "code",
   "execution_count": 18,
   "metadata": {},
   "outputs": [
    {
     "name": "stdout",
     "output_type": "stream",
     "text": [
      "Requirement already satisfied: pyqt5 in c:\\conda\\envs\\datasci\\lib\\site-packages (5.15.4)\n",
      "Requirement already satisfied: lxml in c:\\conda\\envs\\datasci\\lib\\site-packages (4.6.3)\n",
      "Requirement already satisfied: PyQt5-sip<13,>=12.8 in c:\\conda\\envs\\datasci\\lib\\site-packages (from pyqt5) (12.8.1)\n",
      "Requirement already satisfied: PyQt5-Qt5>=5.15 in c:\\conda\\envs\\datasci\\lib\\site-packages (from pyqt5) (5.15.2)\n"
     ]
    },
    {
     "name": "stderr",
     "output_type": "stream",
     "text": [
      "WARNING: Value for scheme.headers does not match. Please report this to <https://github.com/pypa/pip/issues/9617>\n",
      "distutils: c:\\conda\\envs\\datasci\\Include\\UNKNOWN\n",
      "sysconfig: c:\\conda\\envs\\datasci\\Include\n",
      "WARNING: Additional context:\n",
      "user = False\n",
      "home = None\n",
      "root = None\n",
      "prefix = None\n",
      "WARNING: Value for scheme.headers does not match. Please report this to <https://github.com/pypa/pip/issues/9617>\n",
      "distutils: c:\\conda\\envs\\datasci\\Include\\UNKNOWN\n",
      "sysconfig: c:\\conda\\envs\\datasci\\Include\n",
      "WARNING: Additional context:\n",
      "user = False\n",
      "home = None\n",
      "root = None\n",
      "prefix = None\n",
      "WARNING: You are using pip version 21.1; however, version 21.1.1 is available.\n",
      "You should consider upgrading via the 'c:\\conda\\envs\\datasci\\python.exe -m pip install --upgrade pip' command.\n"
     ]
    }
   ],
   "source": [
    "!pip install --upgrade pyqt5 lxml"
   ]
  },
  {
   "cell_type": "code",
   "execution_count": 19,
   "metadata": {},
   "outputs": [],
   "source": [
    "LABELIMG_PATH = os.path.join('Tensorflow', 'labelimg')"
   ]
  },
  {
   "cell_type": "code",
   "execution_count": 21,
   "metadata": {},
   "outputs": [
    {
     "name": "stderr",
     "output_type": "stream",
     "text": [
      "Cloning into 'Tensorflow\\labelimg'...\n"
     ]
    }
   ],
   "source": [
    "if not os.path.exists(LABELIMG_PATH):\n",
    "    !mkdir {LABELIMG_PATH}\n",
    "    !git clone https://github.com/tzutalin/labelImg {LABELIMG_PATH}"
   ]
  },
  {
   "cell_type": "code",
   "execution_count": 22,
   "metadata": {},
   "outputs": [],
   "source": [
    "if os.name == 'posix':\n",
    "    !make qt5py3\n",
    "if os.name == 'nt':\n",
    "    !cd {LABELIMG_PATH} && pyrcc5 -o libs/resources.py resources.qrc"
   ]
  },
  {
   "cell_type": "code",
   "execution_count": 26,
   "metadata": {},
   "outputs": [
    {
     "name": "stdout",
     "output_type": "stream",
     "text": [
      "Image:D:\\git\\sign_language\\Tensorflow\\workspace\\images\\collectedimages\\thankyou\\thankyou.5e998a43-af2e-11eb-82f6-9828a61df860.jpg -> Annotation:D:/git/sign_language/Tensorflow/workspace/images/collectedimages/thankyou/thankyou.5e998a43-af2e-11eb-82f6-9828a61df860.xml\n",
      "Image:D:\\git\\sign_language\\Tensorflow\\workspace\\images\\collectedimages\\thankyou\\thankyou.6ba8ed04-af2e-11eb-9fa7-9828a61df860.jpg -> Annotation:D:/git/sign_language/Tensorflow/workspace/images/collectedimages/thankyou/thankyou.6ba8ed04-af2e-11eb-9fa7-9828a61df860.xml\n",
      "Image:D:\\git\\sign_language\\Tensorflow\\workspace\\images\\collectedimages\\thankyou\\thankyou.6e1f447b-af2e-11eb-a1d5-9828a61df860.jpg -> Annotation:D:/git/sign_language/Tensorflow/workspace/images/collectedimages/thankyou/thankyou.6e1f447b-af2e-11eb-a1d5-9828a61df860.xml\n",
      "Image:D:\\git\\sign_language\\Tensorflow\\workspace\\images\\collectedimages\\thankyou\\thankyou.70f1a187-af2e-11eb-b0f8-9828a61df860.jpg -> Annotation:D:/git/sign_language/Tensorflow/workspace/images/collectedimages/thankyou/thankyou.70f1a187-af2e-11eb-b0f8-9828a61df860.xml\n",
      "Image:D:\\git\\sign_language\\Tensorflow\\workspace\\images\\collectedimages\\thankyou\\thankyou.638ffbf0-af2e-11eb-ab53-9828a61df860.jpg -> Annotation:D:/git/sign_language/Tensorflow/workspace/images/collectedimages/thankyou/thankyou.638ffbf0-af2e-11eb-ab53-9828a61df860.xml\n",
      "Image:D:\\git\\sign_language\\Tensorflow\\workspace\\images\\collectedimages\\thankyou\\thankyou.6934fc66-af2e-11eb-8cf4-9828a61df860.jpg -> Annotation:D:/git/sign_language/Tensorflow/workspace/images/collectedimages/thankyou/thankyou.6934fc66-af2e-11eb-8cf4-9828a61df860.xml\n",
      "Image:D:\\git\\sign_language\\Tensorflow\\workspace\\images\\collectedimages\\thankyou\\thankyou.7356636c-af2e-11eb-93a2-9828a61df860.jpg -> Annotation:D:/git/sign_language/Tensorflow/workspace/images/collectedimages/thankyou/thankyou.7356636c-af2e-11eb-93a2-9828a61df860.xml\n",
      "Image:D:\\git\\sign_language\\Tensorflow\\workspace\\images\\collectedimages\\thankyou\\thankyou.61003949-af2e-11eb-ad66-9828a61df860.jpg -> Annotation:D:/git/sign_language/Tensorflow/workspace/images/collectedimages/thankyou/thankyou.61003949-af2e-11eb-ad66-9828a61df860.xml\n",
      "Image:D:\\git\\sign_language\\Tensorflow\\workspace\\images\\collectedimages\\thankyou\\thankyou.66492354-af2e-11eb-a1bd-9828a61df860.jpg -> Annotation:D:/git/sign_language/Tensorflow/workspace/images/collectedimages/thankyou/thankyou.66492354-af2e-11eb-a1bd-9828a61df860.xml\n",
      "Image:D:\\git\\sign_language\\Tensorflow\\workspace\\images\\collectedimages\\thumbsdown\\thumbsdown.2b51e142-af2e-11eb-9fe8-9828a61df860.jpg -> Annotation:D:/git/sign_language/Tensorflow/workspace/images/collectedimages/thumbsdown/thumbsdown.2b51e142-af2e-11eb-9fe8-9828a61df860.xml\n",
      "Image:D:\\git\\sign_language\\Tensorflow\\workspace\\images\\collectedimages\\thumbsdown\\thumbsdown.2dcb0797-af2e-11eb-80f3-9828a61df860.jpg -> Annotation:D:/git/sign_language/Tensorflow/workspace/images/collectedimages/thumbsdown/thumbsdown.2dcb0797-af2e-11eb-80f3-9828a61df860.xml\n",
      "Image:D:\\git\\sign_language\\Tensorflow\\workspace\\images\\collectedimages\\thumbsdown\\thumbsdown.3a39e46c-af2e-11eb-990b-9828a61df860.jpg -> Annotation:D:/git/sign_language/Tensorflow/workspace/images/collectedimages/thumbsdown/thumbsdown.3a39e46c-af2e-11eb-990b-9828a61df860.xml\n",
      "Image:D:\\git\\sign_language\\Tensorflow\\workspace\\images\\collectedimages\\thumbsdown\\thumbsdown.28ecaeaa-af2e-11eb-9e24-9828a61df860.jpg -> Annotation:D:/git/sign_language/Tensorflow/workspace/images/collectedimages/thumbsdown/thumbsdown.28ecaeaa-af2e-11eb-9e24-9828a61df860.xml\n",
      "Image:D:\\git\\sign_language\\Tensorflow\\workspace\\images\\collectedimages\\thumbsdown\\thumbsdown.37cf8909-af2e-11eb-9836-9828a61df860.jpg -> Annotation:D:/git/sign_language/Tensorflow/workspace/images/collectedimages/thumbsdown/thumbsdown.37cf8909-af2e-11eb-9836-9828a61df860.xml\n",
      "Image:D:\\git\\sign_language\\Tensorflow\\workspace\\images\\collectedimages\\thumbsdown\\thumbsdown.267fa52e-af2e-11eb-9c0d-9828a61df860.jpg -> Annotation:D:/git/sign_language/Tensorflow/workspace/images/collectedimages/thumbsdown/thumbsdown.267fa52e-af2e-11eb-9c0d-9828a61df860.xml\n",
      "Image:D:\\git\\sign_language\\Tensorflow\\workspace\\images\\collectedimages\\thumbsdown\\thumbsdown.329faacb-af2e-11eb-8dd6-9828a61df860.jpg -> Annotation:D:/git/sign_language/Tensorflow/workspace/images/collectedimages/thumbsdown/thumbsdown.329faacb-af2e-11eb-8dd6-9828a61df860.xml\n",
      "Image:D:\\git\\sign_language\\Tensorflow\\workspace\\images\\collectedimages\\thumbsdown\\thumbsdown.3509f282-af2e-11eb-9956-9828a61df860.jpg -> Annotation:D:/git/sign_language/Tensorflow/workspace/images/collectedimages/thumbsdown/thumbsdown.3509f282-af2e-11eb-9956-9828a61df860.xml\n",
      "Image:D:\\git\\sign_language\\Tensorflow\\workspace\\images\\collectedimages\\thumbsdown\\thumbsdown.24183a6b-af2e-11eb-898e-9828a61df860.jpg -> Annotation:D:/git/sign_language/Tensorflow/workspace/images/collectedimages/thumbsdown/thumbsdown.24183a6b-af2e-11eb-898e-9828a61df860.xml\n",
      "Image:D:\\git\\sign_language\\Tensorflow\\workspace\\images\\collectedimages\\thumbsdown\\thumbsdown.30350020-af2e-11eb-9581-9828a61df860.jpg -> Annotation:D:/git/sign_language/Tensorflow/workspace/images/collectedimages/thumbsdown/thumbsdown.30350020-af2e-11eb-9581-9828a61df860.xml\n",
      "Image:D:\\git\\sign_language\\Tensorflow\\workspace\\images\\collectedimages\\thumbsup\\thumbsup.0bf6dedc-af2e-11eb-80a5-9828a61df860.jpg -> Annotation:D:/git/sign_language/Tensorflow/workspace/images/collectedimages/thumbsup/thumbsup.0bf6dedc-af2e-11eb-80a5-9828a61df860.xml\n",
      "Image:D:\\git\\sign_language\\Tensorflow\\workspace\\images\\collectedimages\\thumbsup\\thumbsup.0f7527b6-af2e-11eb-b9ac-9828a61df860.jpg -> Annotation:D:/git/sign_language/Tensorflow/workspace/images/collectedimages/thumbsup/thumbsup.0f7527b6-af2e-11eb-b9ac-9828a61df860.xml\n",
      "Image:D:\\git\\sign_language\\Tensorflow\\workspace\\images\\collectedimages\\thumbsup\\thumbsup.1bf35ca9-af2e-11eb-ab44-9828a61df860.jpg -> Annotation:D:/git/sign_language/Tensorflow/workspace/images/collectedimages/thumbsup/thumbsup.1bf35ca9-af2e-11eb-ab44-9828a61df860.xml\n",
      "Image:D:\\git\\sign_language\\Tensorflow\\workspace\\images\\collectedimages\\thumbsup\\thumbsup.1e583f7d-af2e-11eb-927f-9828a61df860.jpg -> Annotation:D:/git/sign_language/Tensorflow/workspace/images/collectedimages/thumbsup/thumbsup.1e583f7d-af2e-11eb-927f-9828a61df860.xml\n",
      "Image:D:\\git\\sign_language\\Tensorflow\\workspace\\images\\collectedimages\\thumbsup\\thumbsup.11dacf4b-af2e-11eb-a7bc-9828a61df860.jpg -> Annotation:D:/git/sign_language/Tensorflow/workspace/images/collectedimages/thumbsup/thumbsup.11dacf4b-af2e-11eb-a7bc-9828a61df860.xml\n",
      "Image:D:\\git\\sign_language\\Tensorflow\\workspace\\images\\collectedimages\\thumbsup\\thumbsup.16c0c367-af2e-11eb-929a-9828a61df860.jpg -> Annotation:D:/git/sign_language/Tensorflow/workspace/images/collectedimages/thumbsup/thumbsup.16c0c367-af2e-11eb-929a-9828a61df860.xml\n",
      "Image:D:\\git\\sign_language\\Tensorflow\\workspace\\images\\collectedimages\\thumbsup\\thumbsup.098caf0a-af2e-11eb-8e80-9828a61df860.jpg -> Annotation:D:/git/sign_language/Tensorflow/workspace/images/collectedimages/thumbsup/thumbsup.098caf0a-af2e-11eb-8e80-9828a61df860.xml\n",
      "Image:D:\\git\\sign_language\\Tensorflow\\workspace\\images\\collectedimages\\thumbsup\\thumbsup.198c308f-af2e-11eb-896d-9828a61df860.jpg -> Annotation:D:/git/sign_language/Tensorflow/workspace/images/collectedimages/thumbsup/thumbsup.198c308f-af2e-11eb-896d-9828a61df860.xml\n",
      "Image:D:\\git\\sign_language\\Tensorflow\\workspace\\images\\collectedimages\\thumbsup\\thumbsup.1453a902-af2e-11eb-804b-9828a61df860.jpg -> Annotation:D:/git/sign_language/Tensorflow/workspace/images/collectedimages/thumbsup/thumbsup.1453a902-af2e-11eb-804b-9828a61df860.xml\n"
     ]
    }
   ],
   "source": [
    "!cd {LABELIMG_PATH} && python labelImg.py"
   ]
  },
  {
   "cell_type": "code",
   "execution_count": 27,
   "metadata": {},
   "outputs": [],
   "source": [
    "TRAIN_PATH = os.path.join('Tensorflow', 'workspace', 'images', 'train')\n",
    "TEST_PATH = os.path.join('Tensorflow', 'workspace', 'images', 'test')\n",
    "ARCHIVE_PATH = os.path.join('Tensorflow', 'workspace', 'images', 'archive.tar.gz')"
   ]
  },
  {
   "cell_type": "code",
   "execution_count": null,
   "metadata": {},
   "outputs": [],
   "source": []
  }
 ],
 "metadata": {
  "kernelspec": {
   "display_name": "DataSci",
   "language": "python",
   "name": "datasci"
  },
  "language_info": {
   "codemirror_mode": {
    "name": "ipython",
    "version": 3
   },
   "file_extension": ".py",
   "mimetype": "text/x-python",
   "name": "python",
   "nbconvert_exporter": "python",
   "pygments_lexer": "ipython3",
   "version": "3.8.2"
  }
 },
 "nbformat": 4,
 "nbformat_minor": 4
}
